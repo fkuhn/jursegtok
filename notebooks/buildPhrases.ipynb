{
 "cells": [
  {
   "cell_type": "markdown",
   "metadata": {},
   "source": [
    "# build 1-5 Phrasegrams"
   ]
  },
  {
   "cell_type": "code",
   "execution_count": 1,
   "metadata": {
    "collapsed": false
   },
   "outputs": [],
   "source": [
    "from jursegtok import tools\n",
    "import hickle"
   ]
  },
  {
   "cell_type": "code",
   "execution_count": 2,
   "metadata": {
    "collapsed": true
   },
   "outputs": [],
   "source": [
    "# refer to the whole corpus\n",
    "OJCORPUS_DIR = '/home/kuhn/Data/ojc_joint_set/'"
   ]
  },
  {
   "cell_type": "code",
   "execution_count": 3,
   "metadata": {
    "collapsed": true
   },
   "outputs": [],
   "source": [
    "tok_sentences = tools.sklearn_toksent_generator(OJCORPUS_DIR)"
   ]
  },
  {
   "cell_type": "code",
   "execution_count": 5,
   "metadata": {
    "collapsed": false
   },
   "outputs": [],
   "source": [
    "bigram = hickle.load('/home/kuhn/Data/ojc_models/phrases/ojbigram_340k.hkl', safe=False)\n",
    "trigram = hickle.load('/home/kuhn/Data/ojc_models/phrases/ojtrigram_340k.hkl', safe=False)\n",
    "quadram = hickle.load('/home/kuhn/Data/ojc_models/phrases/ojquadram_340k.hkl', safe=False)"
   ]
  },
  {
   "cell_type": "code",
   "execution_count": null,
   "metadata": {
    "collapsed": true
   },
   "outputs": [],
   "source": [
    "from gensim.models.phrases import Phrases"
   ]
  },
  {
   "cell_type": "code",
   "execution_count": 13,
   "metadata": {
    "collapsed": false
   },
   "outputs": [
    {
     "name": "stdout",
     "output_type": "stream",
     "text": [
      "dumping <class 'gensim.models.phrases.Phrases'> to file <HDF5 file \"ojpentagram_340k.hkl\" (mode r+)>\n",
      "Warning: <class 'gensim.models.phrases.Phrases'> type not understood, data have been serialized\n",
      "CPU times: user 5h 38min 13s, sys: 1min 18s, total: 5h 39min 31s\n",
      "Wall time: 10h 26min 24s\n"
     ]
    }
   ],
   "source": [
    "%time hickle.dump(Phrases(quadram[trigram[bigram[tok_sentences]]]), '/home/kuhn/Data/ojc_models/phrases/ojpentagram_340k.hkl', mode='w')"
   ]
  },
  {
   "cell_type": "code",
   "execution_count": 6,
   "metadata": {
    "collapsed": true
   },
   "outputs": [],
   "source": [
    "from gensim.models import Word2Vec"
   ]
  },
  {
   "cell_type": "code",
   "execution_count": 7,
   "metadata": {
    "collapsed": true
   },
   "outputs": [],
   "source": [
    "pentagram = hickle.load('/home/kuhn/Data/ojc_models/phrases/ojpentagram_340k.hkl', safe=False)"
   ]
  },
  {
   "cell_type": "markdown",
   "metadata": {},
   "source": [
    "## Train Models for 5grams "
   ]
  },
  {
   "cell_type": "code",
   "execution_count": 8,
   "metadata": {
    "collapsed": false
   },
   "outputs": [
    {
     "name": "stdout",
     "output_type": "stream",
     "text": [
      "CPU times: user 5h 58min 16s, sys: 45.2 s, total: 5h 59min 1s\n",
      "Wall time: 9h 9min 58s\n"
     ]
    }
   ],
   "source": [
    "%time ojc_penta_model340k = Word2Vec(pentagram[quadram[trigram[bigram[tok_sentences]]]], size=100, window=5, min_count=5, workers=4)\n"
   ]
  },
  {
   "cell_type": "code",
   "execution_count": 9,
   "metadata": {
    "collapsed": true
   },
   "outputs": [],
   "source": [
    "ojc_penta_model340k.save('/home/kuhn/Data/ojc_models/ojpentagram_340k_model')"
   ]
  },
  {
   "cell_type": "markdown",
   "metadata": {
    "collapsed": true
   },
   "source": [
    "# Fit tsne"
   ]
  },
  {
   "cell_type": "code",
   "execution_count": 3,
   "metadata": {
    "collapsed": false
   },
   "outputs": [],
   "source": [
    "import tsne\n",
    "import numpy\n",
    "import hickle"
   ]
  },
  {
   "cell_type": "code",
   "execution_count": 16,
   "metadata": {
    "collapsed": true
   },
   "outputs": [],
   "source": []
  },
  {
   "cell_type": "code",
   "execution_count": null,
   "metadata": {
    "collapsed": false
   },
   "outputs": [],
   "source": [
    "%time hickle.dump(tsne.bh_sne(numpy.float64(numpy.load('/home/kuhn/Data/ojc_models/ojpentagram_340k_model.syn0.npy'))), '/home/kuhn/Data/ojc_models/ojpenta340k-tsne.hickle', mode='w')"
   ]
  },
  {
   "cell_type": "code",
   "execution_count": null,
   "metadata": {
    "collapsed": true
   },
   "outputs": [],
   "source": []
  }
 ],
 "metadata": {
  "kernelspec": {
   "display_name": "Python 2",
   "language": "python",
   "name": "python2"
  },
  "language_info": {
   "codemirror_mode": {
    "name": "ipython",
    "version": 2
   },
   "file_extension": ".py",
   "mimetype": "text/x-python",
   "name": "python",
   "nbconvert_exporter": "python",
   "pygments_lexer": "ipython2",
   "version": "2.7.9"
  }
 },
 "nbformat": 4,
 "nbformat_minor": 0
}
