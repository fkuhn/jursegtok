{
 "cells": [
  {
   "cell_type": "markdown",
   "metadata": {},
   "source": [
    "# Testing sentence tokenizers on legal text examples"
   ]
  },
  {
   "cell_type": "markdown",
   "metadata": {},
   "source": [
    "### 1. Define a nice german sentence and a paragraph"
   ]
  },
  {
   "cell_type": "code",
   "execution_count": 1,
   "metadata": {
    "collapsed": true
   },
   "outputs": [],
   "source": [
    "sentence = u\"So kann auch das freie Belieben einer mitwirkenden Partei zur Bedingung eines Rechtsgeschäfts gemacht werden, sog. Potestativbedingung (Palandt-Heinrichs, BGB, Einf. v. § 158 Rdnr. 10; RGZ 104, 100; BGHZ 47, 391; BGH NJW-RR 1996, 1167).\""
   ]
  },
  {
   "cell_type": "code",
   "execution_count": 2,
   "metadata": {
    "collapsed": true
   },
   "outputs": [],
   "source": [
    "paragraph = u\"Der Kläger hat schließlich auch nicht in ausreichend substantiierter Weise dargelegt, dass er vom Beklagten arglistig getäuscht worden wäre (§ 123 Abs. 1 Alt. 1 BGB). Welche „falschen Versprechungen“ dem Kläger bei Vertragsschluss gemacht sein sollen, erläutert der Kläger auch auf Bestreiten der Beklagtenpartei in der Klageschrift nicht näher. Auch aus der informatorischen Anhörung des Klägers haben sich keine Anhaltspunkte für eine Täuschung bei Vertragsabschluss ergeben.\""
   ]
  },
  {
   "cell_type": "markdown",
   "metadata": {},
   "source": [
    "### 2. Use standard nltk german sentence tokenizer"
   ]
  },
  {
   "cell_type": "code",
   "execution_count": 17,
   "metadata": {
    "collapsed": true
   },
   "outputs": [],
   "source": [
    "import nltk"
   ]
  },
  {
   "cell_type": "code",
   "execution_count": 18,
   "metadata": {
    "collapsed": true
   },
   "outputs": [],
   "source": [
    "nltk_sent = nltk.data.load('tokenizers/punkt/german.pickle')"
   ]
  },
  {
   "cell_type": "code",
   "execution_count": 19,
   "metadata": {
    "collapsed": false
   },
   "outputs": [
    {
     "name": "stdout",
     "output_type": "stream",
     "text": [
      "CPU times: user 0 ns, sys: 0 ns, total: 0 ns\n",
      "Wall time: 406 µs\n"
     ]
    },
    {
     "data": {
      "text/plain": [
       "[u'So kann auch das freie Belieben einer mitwirkenden Partei zur Bedingung eines Rechtsgesch\\xe4fts gemacht werden, sog.',\n",
       " u'Potestativbedingung (Palandt-Heinrichs, BGB, Einf.',\n",
       " u'v. \\xa7 158 Rdnr.',\n",
       " u'10; RGZ 104, 100; BGHZ 47, 391; BGH NJW-RR 1996, 1167).']"
      ]
     },
     "execution_count": 19,
     "metadata": {},
     "output_type": "execute_result"
    }
   ],
   "source": [
    "%time nltk_sent.sentences_from_text(sentence)"
   ]
  },
  {
   "cell_type": "markdown",
   "metadata": {},
   "source": [
    "#### We get a sentence split into 4 fragments because the standard sentence tokenizer model is underspecified (trained on a too general text genre)"
   ]
  },
  {
   "cell_type": "code",
   "execution_count": 20,
   "metadata": {
    "collapsed": false
   },
   "outputs": [
    {
     "name": "stdout",
     "output_type": "stream",
     "text": [
      "CPU times: user 0 ns, sys: 0 ns, total: 0 ns\n",
      "Wall time: 953 µs\n"
     ]
    },
    {
     "data": {
      "text/plain": [
       "[u'Der Kl\\xe4ger hat schlie\\xdflich auch nicht in ausreichend substantiierter Weise dargelegt, dass er vom Beklagten arglistig get\\xe4uscht worden w\\xe4re (\\xa7 123 Abs. 1 Alt.',\n",
       " u'1 BGB).',\n",
       " u'Welche \\u201efalschen Versprechungen\\u201c dem Kl\\xe4ger bei Vertragsschluss gemacht sein sollen, erl\\xe4utert der Kl\\xe4ger auch auf Bestreiten der Beklagtenpartei in der Klageschrift nicht n\\xe4her.',\n",
       " u'Auch aus der informatorischen Anh\\xf6rung des Kl\\xe4gers haben sich keine Anhaltspunkte f\\xfcr eine T\\xe4uschung bei Vertragsabschluss ergeben.']"
      ]
     },
     "execution_count": 20,
     "metadata": {},
     "output_type": "execute_result"
    }
   ],
   "source": [
    "%time nltk_sent.sentences_from_text(paragraph)"
   ]
  },
  {
   "cell_type": "markdown",
   "metadata": {},
   "source": [
    "### 3. Testing a retrained version of the nltk sentence tokenizer (model based on 1500 decision documents)"
   ]
  },
  {
   "cell_type": "code",
   "execution_count": 14,
   "metadata": {
    "collapsed": false
   },
   "outputs": [],
   "source": [
    "import hickle\n",
    "jur_sent = hickle.load('../data/jursentok.hkl', safe=False)"
   ]
  },
  {
   "cell_type": "code",
   "execution_count": 15,
   "metadata": {
    "collapsed": false
   },
   "outputs": [
    {
     "name": "stdout",
     "output_type": "stream",
     "text": [
      "CPU times: user 0 ns, sys: 0 ns, total: 0 ns\n",
      "Wall time: 837 µs\n"
     ]
    },
    {
     "data": {
      "text/plain": [
       "[u'So kann auch das freie Belieben einer mitwirkenden Partei zur Bedingung eines Rechtsgesch\\xe4fts gemacht werden, sog. Potestativbedingung (Palandt-Heinrichs, BGB, Einf. v.',\n",
       " u'\\xa7 158 Rdnr. 10; RGZ 104, 100; BGHZ 47, 391; BGH NJW-RR 1996, 1167).']"
      ]
     },
     "execution_count": 15,
     "metadata": {},
     "output_type": "execute_result"
    }
   ],
   "source": [
    "%time jur_sent.sentences_from_text(sentence)"
   ]
  },
  {
   "cell_type": "code",
   "execution_count": 21,
   "metadata": {
    "collapsed": false
   },
   "outputs": [
    {
     "name": "stdout",
     "output_type": "stream",
     "text": [
      "CPU times: user 0 ns, sys: 0 ns, total: 0 ns\n",
      "Wall time: 765 µs\n"
     ]
    },
    {
     "data": {
      "text/plain": [
       "[u'Der Kl\\xe4ger hat schlie\\xdflich auch nicht in ausreichend substantiierter Weise dargelegt, dass er vom Beklagten arglistig get\\xe4uscht worden w\\xe4re (\\xa7 123 Abs. 1 Alt.',\n",
       " u'1 BGB).',\n",
       " u'Welche \\u201efalschen Versprechungen\\u201c dem Kl\\xe4ger bei Vertragsschluss gemacht sein sollen, erl\\xe4utert der Kl\\xe4ger auch auf Bestreiten der Beklagtenpartei in der Klageschrift nicht n\\xe4her.',\n",
       " u'Auch aus der informatorischen Anh\\xf6rung des Kl\\xe4gers haben sich keine Anhaltspunkte f\\xfcr eine T\\xe4uschung bei Vertragsabschluss ergeben.']"
      ]
     },
     "execution_count": 21,
     "metadata": {},
     "output_type": "execute_result"
    }
   ],
   "source": [
    "%time jur_sent.sentences_from_text(paragraph)"
   ]
  },
  {
   "cell_type": "markdown",
   "metadata": {},
   "source": [
    "#### Still errors are made, but false positives are reduced (look up mini-eval in own gscl paper draft)"
   ]
  },
  {
   "cell_type": "markdown",
   "metadata": {},
   "source": [
    "### 4. Using an improved tokenizer that corrects false positives based on a legal abbreviation list after prob. model has been applied ( a little heuristic though)"
   ]
  },
  {
   "cell_type": "code",
   "execution_count": 7,
   "metadata": {
    "collapsed": true
   },
   "outputs": [],
   "source": [
    "from jursegtok import tokenizer"
   ]
  },
  {
   "cell_type": "code",
   "execution_count": 8,
   "metadata": {
    "collapsed": false
   },
   "outputs": [],
   "source": [
    "jur_sent_impr = tokenizer.JurSentTokenizer()"
   ]
  },
  {
   "cell_type": "code",
   "execution_count": 23,
   "metadata": {
    "collapsed": false
   },
   "outputs": [
    {
     "name": "stdout",
     "output_type": "stream",
     "text": [
      "CPU times: user 4 ms, sys: 0 ns, total: 4 ms\n",
      "Wall time: 1.28 ms\n"
     ]
    },
    {
     "data": {
      "text/plain": [
       "[u'Der Kl\\xe4ger hat schlie\\xdflich auch nicht in ausreichend substantiierter Weise dargelegt, dass er vom Beklagten arglistig get\\xe4uscht worden w\\xe4re (\\xa7 123 Abs. 1 Alt. 1 BGB).',\n",
       " u'Welche \\u201efalschen Versprechungen\\u201c dem Kl\\xe4ger bei Vertragsschluss gemacht sein sollen, erl\\xe4utert der Kl\\xe4ger auch auf Bestreiten der Beklagtenpartei in der Klageschrift nicht n\\xe4her.',\n",
       " u'Auch aus der informatorischen Anh\\xf6rung des Kl\\xe4gers haben sich keine Anhaltspunkte f\\xfcr eine T\\xe4uschung bei Vertragsabschluss ergeben.']"
      ]
     },
     "execution_count": 23,
     "metadata": {},
     "output_type": "execute_result"
    }
   ],
   "source": [
    "%time jur_sent_impr.sentence_tokenize(paragraph)"
   ]
  },
  {
   "cell_type": "code",
   "execution_count": 22,
   "metadata": {
    "collapsed": false
   },
   "outputs": [
    {
     "name": "stdout",
     "output_type": "stream",
     "text": [
      "CPU times: user 4 ms, sys: 0 ns, total: 4 ms\n",
      "Wall time: 1.59 ms\n"
     ]
    },
    {
     "data": {
      "text/plain": [
       "[u'So kann auch das freie Belieben einer mitwirkenden Partei zur Bedingung eines Rechtsgesch\\xe4fts gemacht werden, sog. Potestativbedingung (Palandt-Heinrichs, BGB, Einf. v. \\xa7 158 Rdnr. 10; RGZ 104, 100; BGHZ 47, 391; BGH NJW-RR 1996, 1167).']"
      ]
     },
     "execution_count": 22,
     "metadata": {},
     "output_type": "execute_result"
    }
   ],
   "source": [
    "%time jurSent.sentence_tokenize(sentence)"
   ]
  },
  {
   "cell_type": "markdown",
   "metadata": {},
   "source": [
    "### Errors are corrected but correction lookup heuristic is costly and performs slower"
   ]
  },
  {
   "cell_type": "code",
   "execution_count": null,
   "metadata": {
    "collapsed": true
   },
   "outputs": [],
   "source": []
  }
 ],
 "metadata": {
  "kernelspec": {
   "display_name": "Python 2",
   "language": "python",
   "name": "python2"
  },
  "language_info": {
   "codemirror_mode": {
    "name": "ipython",
    "version": 2
   },
   "file_extension": ".py",
   "mimetype": "text/x-python",
   "name": "python",
   "nbconvert_exporter": "python",
   "pygments_lexer": "ipython2",
   "version": "2.7.9"
  }
 },
 "nbformat": 4,
 "nbformat_minor": 0
}
