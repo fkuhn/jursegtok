{
 "cells": [
  {
   "cell_type": "markdown",
   "metadata": {},
   "source": [
    "# Testing sentence tokenizers on legal text examples"
   ]
  },
  {
   "cell_type": "markdown",
   "metadata": {},
   "source": [
    "### 1. Define a nice german sentence and a paragraph"
   ]
  },
  {
   "cell_type": "code",
   "execution_count": 6,
   "metadata": {
    "collapsed": true
   },
   "outputs": [],
   "source": [
    "sentence = u\"So kann auch das freie Belieben einer mitwirkenden Partei zur Bedingung eines Rechtsgeschäfts gemacht werden, sog. Potestativbedingung (Palandt-Heinrichs, BGB, Einf. v. § 158 Rdnr. 10; RGZ 104, 100; BGHZ 47, 391; BGH NJW-RR 1996, 1167).\""
   ]
  },
  {
   "cell_type": "code",
   "execution_count": 7,
   "metadata": {
    "collapsed": true
   },
   "outputs": [],
   "source": [
    "paragraph = u\"Der Kläger hat schließlich auch nicht in ausreichend substantiierter Weise dargelegt, dass er vom Beklagten arglistig getäuscht worden wäre (§ 123 Abs. 1 Alt. 1 BGB). Welche „falschen Versprechungen“ dem Kläger bei Vertragsschluss gemacht sein sollen, erläutert der Kläger auch auf Bestreiten der Beklagtenpartei in der Klageschrift nicht näher. Auch aus der informatorischen Anhörung des Klägers haben sich keine Anhaltspunkte für eine Täuschung bei Vertragsabschluss ergeben.\""
   ]
  },
  {
   "cell_type": "markdown",
   "metadata": {},
   "source": [
    "### 2. Use standard nltk german sentence tokenizer"
   ]
  },
  {
   "cell_type": "code",
   "execution_count": 8,
   "metadata": {
    "collapsed": true
   },
   "outputs": [],
   "source": [
    "import nltk"
   ]
  },
  {
   "cell_type": "code",
   "execution_count": 9,
   "metadata": {
    "collapsed": false
   },
   "outputs": [],
   "source": [
    "nltk_sent = nltk.data.load('tokenizers/punkt/german.pickle')"
   ]
  },
  {
   "cell_type": "code",
   "execution_count": 10,
   "metadata": {
    "collapsed": false
   },
   "outputs": [
    {
     "name": "stdout",
     "output_type": "stream",
     "text": [
      "CPU times: user 0 ns, sys: 0 ns, total: 0 ns\n",
      "Wall time: 538 µs\n"
     ]
    },
    {
     "data": {
      "text/plain": [
       "[u'So kann auch das freie Belieben einer mitwirkenden Partei zur Bedingung eines Rechtsgesch\\xe4fts gemacht werden, sog.',\n",
       " u'Potestativbedingung (Palandt-Heinrichs, BGB, Einf.',\n",
       " u'v. \\xa7 158 Rdnr.',\n",
       " u'10; RGZ 104, 100; BGHZ 47, 391; BGH NJW-RR 1996, 1167).']"
      ]
     },
     "execution_count": 10,
     "metadata": {},
     "output_type": "execute_result"
    }
   ],
   "source": [
    "%time nltk_sent.sentences_from_text(sentence)"
   ]
  },
  {
   "cell_type": "markdown",
   "metadata": {},
   "source": [
    "#### We get a sentence split into 4 fragments because the standard sentence tokenizer model is underspecified (trained on a too general text genre)"
   ]
  },
  {
   "cell_type": "code",
   "execution_count": 6,
   "metadata": {
    "collapsed": false
   },
   "outputs": [
    {
     "name": "stdout",
     "output_type": "stream",
     "text": [
      "CPU times: user 2.28 ms, sys: 0 ns, total: 2.28 ms\n",
      "Wall time: 630 µs\n"
     ]
    },
    {
     "data": {
      "text/plain": [
       "[u'Der Kl\\xe4ger hat schlie\\xdflich auch nicht in ausreichend substantiierter Weise dargelegt, dass er vom Beklagten arglistig get\\xe4uscht worden w\\xe4re (\\xa7 123 Abs. 1 Alt.',\n",
       " u'1 BGB).',\n",
       " u'Welche \\u201efalschen Versprechungen\\u201c dem Kl\\xe4ger bei Vertragsschluss gemacht sein sollen, erl\\xe4utert der Kl\\xe4ger auch auf Bestreiten der Beklagtenpartei in der Klageschrift nicht n\\xe4her.',\n",
       " u'Auch aus der informatorischen Anh\\xf6rung des Kl\\xe4gers haben sich keine Anhaltspunkte f\\xfcr eine T\\xe4uschung bei Vertragsabschluss ergeben.']"
      ]
     },
     "execution_count": 6,
     "metadata": {},
     "output_type": "execute_result"
    }
   ],
   "source": [
    "%time nltk_sent.sentences_from_text(paragraph)"
   ]
  },
  {
   "cell_type": "markdown",
   "metadata": {},
   "source": [
    "### 3. Testing a retrained version of the nltk sentence tokenizer (model based on 1500 decision documents)"
   ]
  },
  {
   "cell_type": "code",
   "execution_count": 11,
   "metadata": {
    "collapsed": false
   },
   "outputs": [],
   "source": [
    "import hickle\n",
    "jur_sent = hickle.load('../data/jursentok.hkl', safe=False)"
   ]
  },
  {
   "cell_type": "code",
   "execution_count": 12,
   "metadata": {
    "collapsed": false
   },
   "outputs": [
    {
     "name": "stdout",
     "output_type": "stream",
     "text": [
      "CPU times: user 0 ns, sys: 0 ns, total: 0 ns\n",
      "Wall time: 770 µs\n"
     ]
    },
    {
     "data": {
      "text/plain": [
       "[u'So kann auch das freie Belieben einer mitwirkenden Partei zur Bedingung eines Rechtsgesch\\xe4fts gemacht werden, sog. Potestativbedingung (Palandt-Heinrichs, BGB, Einf. v.',\n",
       " u'\\xa7 158 Rdnr. 10; RGZ 104, 100; BGHZ 47, 391; BGH NJW-RR 1996, 1167).']"
      ]
     },
     "execution_count": 12,
     "metadata": {},
     "output_type": "execute_result"
    }
   ],
   "source": [
    "%time jur_sent.sentences_from_text(sentence)"
   ]
  },
  {
   "cell_type": "code",
   "execution_count": 13,
   "metadata": {
    "collapsed": false
   },
   "outputs": [
    {
     "name": "stdout",
     "output_type": "stream",
     "text": [
      "CPU times: user 0 ns, sys: 0 ns, total: 0 ns\n",
      "Wall time: 1.1 ms\n"
     ]
    },
    {
     "data": {
      "text/plain": [
       "[u'Der Kl\\xe4ger hat schlie\\xdflich auch nicht in ausreichend substantiierter Weise dargelegt, dass er vom Beklagten arglistig get\\xe4uscht worden w\\xe4re (\\xa7 123 Abs. 1 Alt.',\n",
       " u'1 BGB).',\n",
       " u'Welche \\u201efalschen Versprechungen\\u201c dem Kl\\xe4ger bei Vertragsschluss gemacht sein sollen, erl\\xe4utert der Kl\\xe4ger auch auf Bestreiten der Beklagtenpartei in der Klageschrift nicht n\\xe4her.',\n",
       " u'Auch aus der informatorischen Anh\\xf6rung des Kl\\xe4gers haben sich keine Anhaltspunkte f\\xfcr eine T\\xe4uschung bei Vertragsabschluss ergeben.']"
      ]
     },
     "execution_count": 13,
     "metadata": {},
     "output_type": "execute_result"
    }
   ],
   "source": [
    "%time jur_sent.sentences_from_text(paragraph)"
   ]
  },
  {
   "cell_type": "markdown",
   "metadata": {},
   "source": [
    "#### Still errors are made, but false positives are reduced (look up mini-eval in own gscl paper draft)"
   ]
  },
  {
   "cell_type": "markdown",
   "metadata": {},
   "source": [
    "### 4. Using an improved tokenizer that corrects false positives based on a legal abbreviation list after prob. model has been applied ( a little heuristic though)"
   ]
  },
  {
   "cell_type": "code",
   "execution_count": 14,
   "metadata": {
    "collapsed": false
   },
   "outputs": [
    {
     "ename": "ImportError",
     "evalue": "cannot import name JurSentTokenizer",
     "output_type": "error",
     "traceback": [
      "\u001b[0;31m---------------------------------------------------------------------------\u001b[0m",
      "\u001b[0;31mImportError\u001b[0m                               Traceback (most recent call last)",
      "\u001b[0;32m<ipython-input-14-3d291b05b18e>\u001b[0m in \u001b[0;36m<module>\u001b[0;34m()\u001b[0m\n\u001b[0;32m----> 1\u001b[0;31m \u001b[0;32mfrom\u001b[0m \u001b[0mjursegtok\u001b[0m \u001b[0;32mimport\u001b[0m \u001b[0mtokenizer\u001b[0m\u001b[0;34m\u001b[0m\u001b[0m\n\u001b[0m",
      "\u001b[0;32m/home/kuhn/Applications/anaconda2/lib/python2.7/site-packages/jursegtok-0.2-py2.7.egg/jursegtok/tokenizer.py\u001b[0m in \u001b[0;36m<module>\u001b[0;34m()\u001b[0m\n\u001b[1;32m      7\u001b[0m \u001b[0;31m# import spacy\u001b[0m\u001b[0;34m\u001b[0m\u001b[0;34m\u001b[0m\u001b[0m\n\u001b[1;32m      8\u001b[0m \u001b[0;31m# import hickle\u001b[0m\u001b[0;34m\u001b[0m\u001b[0;34m\u001b[0m\u001b[0m\n\u001b[0;32m----> 9\u001b[0;31m \u001b[0;32mimport\u001b[0m \u001b[0mcorpus\u001b[0m\u001b[0;34m\u001b[0m\u001b[0m\n\u001b[0m\u001b[1;32m     10\u001b[0m \u001b[0;34m\u001b[0m\u001b[0m\n\u001b[1;32m     11\u001b[0m \u001b[0;34m\u001b[0m\u001b[0m\n",
      "\u001b[0;32m/home/kuhn/Applications/anaconda2/lib/python2.7/site-packages/jursegtok-0.2-py2.7.egg/jursegtok/corpus.py\u001b[0m in \u001b[0;36m<module>\u001b[0;34m()\u001b[0m\n\u001b[1;32m     11\u001b[0m \u001b[0;34m\u001b[0m\u001b[0m\n\u001b[1;32m     12\u001b[0m \u001b[0;32mfrom\u001b[0m \u001b[0mjursegtok\u001b[0m\u001b[0;34m.\u001b[0m\u001b[0mutils\u001b[0m \u001b[0;32mimport\u001b[0m \u001b[0mfind_files\u001b[0m\u001b[0;34m\u001b[0m\u001b[0m\n\u001b[0;32m---> 13\u001b[0;31m \u001b[0;32mfrom\u001b[0m \u001b[0mjursegtok\u001b[0m\u001b[0;34m.\u001b[0m\u001b[0mtokenizer\u001b[0m \u001b[0;32mimport\u001b[0m \u001b[0mJurSentTokenizer\u001b[0m\u001b[0;34m\u001b[0m\u001b[0m\n\u001b[0m\u001b[1;32m     14\u001b[0m \u001b[0;34m\u001b[0m\u001b[0m\n\u001b[1;32m     15\u001b[0m \u001b[0mHTML_PARSER\u001b[0m \u001b[0;34m=\u001b[0m \u001b[0metree\u001b[0m\u001b[0;34m.\u001b[0m\u001b[0mHTMLParser\u001b[0m\u001b[0;34m(\u001b[0m\u001b[0;34m)\u001b[0m\u001b[0;34m\u001b[0m\u001b[0m\n",
      "\u001b[0;31mImportError\u001b[0m: cannot import name JurSentTokenizer"
     ]
    }
   ],
   "source": [
    "from jursegtok import tokenizer"
   ]
  },
  {
   "cell_type": "code",
   "execution_count": 11,
   "metadata": {
    "collapsed": false
   },
   "outputs": [],
   "source": [
    "jur_sent_impr = tokenizer.JurSentTokenizer()"
   ]
  },
  {
   "cell_type": "code",
   "execution_count": 12,
   "metadata": {
    "collapsed": false
   },
   "outputs": [
    {
     "name": "stdout",
     "output_type": "stream",
     "text": [
      "CPU times: user 742 µs, sys: 527 µs, total: 1.27 ms\n",
      "Wall time: 1.22 ms\n"
     ]
    },
    {
     "data": {
      "text/plain": [
       "[u'Der Kl\\xe4ger hat schlie\\xdflich auch nicht in ausreichend substantiierter Weise dargelegt, dass er vom Beklagten arglistig get\\xe4uscht worden w\\xe4re (\\xa7 123 Abs. 1 Alt. 1 BGB).',\n",
       " u'Welche \\u201efalschen Versprechungen\\u201c dem Kl\\xe4ger bei Vertragsschluss gemacht sein sollen, erl\\xe4utert der Kl\\xe4ger auch auf Bestreiten der Beklagtenpartei in der Klageschrift nicht n\\xe4her.',\n",
       " u'Auch aus der informatorischen Anh\\xf6rung des Kl\\xe4gers haben sich keine Anhaltspunkte f\\xfcr eine T\\xe4uschung bei Vertragsabschluss ergeben.']"
      ]
     },
     "execution_count": 12,
     "metadata": {},
     "output_type": "execute_result"
    }
   ],
   "source": [
    "%time jur_sent_impr.sentence_tokenize(paragraph)"
   ]
  },
  {
   "cell_type": "code",
   "execution_count": 16,
   "metadata": {
    "collapsed": false
   },
   "outputs": [
    {
     "name": "stdout",
     "output_type": "stream",
     "text": [
      "CPU times: user 0 ns, sys: 0 ns, total: 0 ns\n",
      "Wall time: 860 µs\n"
     ]
    },
    {
     "data": {
      "text/plain": [
       "[u'So kann auch das freie Belieben einer mitwirkenden Partei zur Bedingung eines Rechtsgesch\\xe4fts gemacht werden, sog. Potestativbedingung (Palandt-Heinrichs, BGB, Einf. v. \\xa7 158 Rdnr. 10; RGZ 104, 100; BGHZ 47, 391; BGH NJW-RR 1996, 1167).']"
      ]
     },
     "execution_count": 16,
     "metadata": {},
     "output_type": "execute_result"
    }
   ],
   "source": [
    "%time jur_sent_impr.sentence_tokenize(sentence)"
   ]
  },
  {
   "cell_type": "markdown",
   "metadata": {},
   "source": [
    "### Errors are corrected but correction lookup heuristic is costly and performs slower"
   ]
  }
 ],
 "metadata": {
  "anaconda-cloud": {},
  "kernelspec": {
   "display_name": "Python [conda root]",
   "language": "python",
   "name": "conda-root-py"
  },
  "language_info": {
   "codemirror_mode": {
    "name": "ipython",
    "version": 2
   },
   "file_extension": ".py",
   "mimetype": "text/x-python",
   "name": "python",
   "nbconvert_exporter": "python",
   "pygments_lexer": "ipython2",
   "version": "2.7.12"
  }
 },
 "nbformat": 4,
 "nbformat_minor": 0
}
